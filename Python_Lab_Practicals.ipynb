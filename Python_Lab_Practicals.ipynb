{
  "nbformat": 4,
  "nbformat_minor": 0,
  "metadata": {
    "colab": {
      "provenance": [],
      "collapsed_sections": []
    },
    "kernelspec": {
      "name": "python3",
      "display_name": "Python 3"
    },
    "language_info": {
      "name": "python"
    }
  },
  "cells": [
    {
      "cell_type": "markdown",
      "source": [
        "#**PRACTICAL 1**\n",
        "## AIM: To understand Control Structures"
      ],
      "metadata": {
        "id": "JGGGEzv31XTn"
      }
    },
    {
      "cell_type": "markdown",
      "source": [
        "### 1.Input through the user and find out whether the number is zero, positive or negative.\n",
        "\n"
      ],
      "metadata": {
        "id": "q_GlJHt31d8D"
      }
    },
    {
      "cell_type": "code",
      "source": [
        "num=float(input(\"Enter the number you want to check.\"))\n",
        " \n",
        "if num>0:\n",
        "    print(\"The number is positive\")\n",
        "elif num==0:\n",
        "    print(\"The number is zero\")\n",
        "else:\n",
        "    print(\"The number is negative\")"
      ],
      "metadata": {
        "colab": {
          "base_uri": "https://localhost:8080/"
        },
        "id": "woEoRLWoVW3D",
        "outputId": "cdc8ed99-a3a1-41e2-db1b-498648c87d67"
      },
      "execution_count": null,
      "outputs": [
        {
          "output_type": "stream",
          "name": "stdout",
          "text": [
            "Enter the number you want to check.254\n",
            "The number is positive\n"
          ]
        }
      ]
    },
    {
      "cell_type": "markdown",
      "source": [
        "### 2. Initialize the array with the string. Input string through the user and output TRUE or FALSE based on the presence or absence of string."
      ],
      "metadata": {
        "id": "04jN16YYZH-G"
      }
    },
    {
      "cell_type": "code",
      "source": [
        "test_str=\"I am an Indian.\"\n",
        "print(\"Does Indian exist in test_str?\")\n",
        "if \"Indian\"in test_str:\n",
        "  print(\"TRUE\")\n",
        "else:\n",
        "  print(\"FALSE\")"
      ],
      "metadata": {
        "colab": {
          "base_uri": "https://localhost:8080/"
        },
        "id": "UhGEnS2eaCJD",
        "outputId": "a1a74acc-b49a-4d57-b1b0-04f53a81dc7c"
      },
      "execution_count": null,
      "outputs": [
        {
          "output_type": "stream",
          "name": "stdout",
          "text": [
            "Does Indian exist in test_str?\n",
            "TRUE\n"
          ]
        }
      ]
    },
    {
      "cell_type": "markdown",
      "source": [
        "###3. Initialize the value with string. Print the characters until a letter \"o\" is encountered using break statement."
      ],
      "metadata": {
        "id": "6bL2RyPedLSL"
      }
    },
    {
      "cell_type": "code",
      "source": [
        "string=str(input(\"Enter a string \"))\n",
        "for y in string:\n",
        "  if y==\"o\":\n",
        "    break\n",
        "  print(y, end=\"\")"
      ],
      "metadata": {
        "colab": {
          "base_uri": "https://localhost:8080/"
        },
        "id": "4kk3N4hCdYda",
        "outputId": "a2a77929-32f1-4cc3-97cc-3d41240f92d2"
      },
      "execution_count": null,
      "outputs": [
        {
          "output_type": "stream",
          "name": "stdout",
          "text": [
            "Enter a string This is an owl\n",
            "This is an "
          ]
        }
      ]
    },
    {
      "cell_type": "markdown",
      "source": [
        "###4. Repeat above prog to use continue and pass statement for letter \"o\""
      ],
      "metadata": {
        "id": "biPCnO4deCoA"
      }
    },
    {
      "cell_type": "code",
      "source": [
        "string=str(input(\"Enter a string \"))\n",
        "for y in string:\n",
        "  if y==\"o\":\n",
        "    continue\n",
        "  print(y, end=\"\")"
      ],
      "metadata": {
        "colab": {
          "base_uri": "https://localhost:8080/"
        },
        "id": "bG5A2QfQeXRr",
        "outputId": "d7a0ba39-71e0-4e9c-d164-6692f00321a3"
      },
      "execution_count": null,
      "outputs": [
        {
          "output_type": "stream",
          "name": "stdout",
          "text": [
            "Enter a string Lion is an animal\n",
            "Lin is an animal"
          ]
        }
      ]
    },
    {
      "cell_type": "code",
      "source": [
        "string=str(input(\"Enter a string \"))\n",
        "for y in string:\n",
        "  if y==\"o\":\n",
        "    pass\n",
        "  print(y, end=\"\")"
      ],
      "metadata": {
        "colab": {
          "base_uri": "https://localhost:8080/"
        },
        "id": "it5EoRXgehu9",
        "outputId": "dd787de3-c358-4d3d-b7d1-9615136f3210"
      },
      "execution_count": null,
      "outputs": [
        {
          "output_type": "stream",
          "name": "stdout",
          "text": [
            "Enter a string This is an owl\n",
            "This is an owl"
          ]
        }
      ]
    },
    {
      "cell_type": "markdown",
      "source": [
        "###5. To add the number stored in array till the counter reaches to user defined code."
      ],
      "metadata": {
        "id": "CZhTlEi3e_S2"
      }
    },
    {
      "cell_type": "code",
      "source": [
        "a=[1,2,3,4,5,6,7,8,9,10]\n",
        "b=int(input(\"Enter an integer \"))\n",
        "sum=0\n",
        "if b in a:\n",
        "  for x in range(1,b+1):\n",
        "    sum=sum+x\n",
        "  print(sum)\n",
        "else:\n",
        "  print(b, \"is not in array\")\n"
      ],
      "metadata": {
        "colab": {
          "base_uri": "https://localhost:8080/"
        },
        "id": "iMarQEjwfP-c",
        "outputId": "6d7cf631-7cde-4fc3-d538-af8c5ac90358"
      },
      "execution_count": null,
      "outputs": [
        {
          "output_type": "stream",
          "name": "stdout",
          "text": [
            "Enter an integer 2\n",
            "3\n"
          ]
        }
      ]
    },
    {
      "cell_type": "markdown",
      "source": [
        "#**PRACTICAL 2**\n",
        "##AIM: To Understand List and Tuples"
      ],
      "metadata": {
        "id": "NO8EOCPrj3oD"
      }
    },
    {
      "cell_type": "markdown",
      "source": [
        "###1. To create list and tuple with different datatypes. and show the difference between list and tuples "
      ],
      "metadata": {
        "id": "fRcXrI-PkTsY"
      }
    },
    {
      "cell_type": "code",
      "source": [
        "list_data=['an','example','of','a','list']\n",
        "print(list_data)\n",
        "tuple_data = ('this', 'is', 'an', 'example', 'of', 'tuple')\n",
        "print(tuple_data)"
      ],
      "metadata": {
        "colab": {
          "base_uri": "https://localhost:8080/"
        },
        "id": "_lCSgHpClXYe",
        "outputId": "16d20f29-47a5-4e64-d052-651d04fadbf2"
      },
      "execution_count": null,
      "outputs": [
        {
          "output_type": "stream",
          "name": "stdout",
          "text": [
            "['an', 'example', 'of', 'a', 'list']\n",
            "('this', 'is', 'an', 'example', 'of', 'tuple')\n"
          ]
        }
      ]
    },
    {
      "cell_type": "markdown",
      "source": [
        "###2. To remove duplicates from a list"
      ],
      "metadata": {
        "id": "WY7S81tmksVh"
      }
    },
    {
      "cell_type": "code",
      "source": [
        "list = [2,3,6,96,6,3,7,1,7]\n",
        "u_li=[]\n",
        "d_li=[]\n",
        "for i in list:\n",
        " if i not in u_li:\n",
        "   u_li.append(i)\n",
        " else:\n",
        "   d_li.append(i)\n",
        "print(u_li)\n",
        "print(d_li)"
      ],
      "metadata": {
        "colab": {
          "base_uri": "https://localhost:8080/"
        },
        "id": "3UNUyBm_nitB",
        "outputId": "cadad712-c301-4b42-a7c3-2e2ff88f0663"
      },
      "execution_count": null,
      "outputs": [
        {
          "output_type": "stream",
          "name": "stdout",
          "text": [
            "[2, 3, 6, 96, 7, 1]\n",
            "[6, 3, 7]\n"
          ]
        }
      ]
    },
    {
      "cell_type": "markdown",
      "source": [
        "###3. A python function that takes two lists and returns TRUE if they have atleast one common member.\n"
      ],
      "metadata": {
        "id": "no-4cucFkw1z"
      }
    },
    {
      "cell_type": "code",
      "source": [
        "def common_data(list1, list2):\n",
        " result = False\n",
        " for x in list1:\n",
        "  for y in list2:\n",
        "   if x == y:\n",
        "    result = True\n",
        "    return result\n",
        "print(common_data([1,2,3,4,5], [5,6,7,8,9]))\n",
        "print(common_data([1,2,3,4,5], [6,7,8,9]))"
      ],
      "metadata": {
        "colab": {
          "base_uri": "https://localhost:8080/"
        },
        "id": "6DUQhl3QnwyW",
        "outputId": "6e76c27e-bd97-4dcd-9970-bed5c686fe57"
      },
      "execution_count": null,
      "outputs": [
        {
          "output_type": "stream",
          "name": "stdout",
          "text": [
            "True\n",
            "None\n"
          ]
        }
      ]
    },
    {
      "cell_type": "markdown",
      "source": [
        "###4. To get the frequency of elements in a list\n"
      ],
      "metadata": {
        "id": "5VJM4oNjlAgo"
      }
    },
    {
      "cell_type": "code",
      "source": [
        "import collections\n",
        "my_list = [10,10,10,10,20,20,20,20,40,40,50,50,30]\n",
        "print(\"Original List : \",my_list)\n",
        "ctr = collections.Counter(my_list)\n",
        "print(\"Frequency of the elements in the List : \",ctr)"
      ],
      "metadata": {
        "colab": {
          "base_uri": "https://localhost:8080/"
        },
        "id": "1w1JugHApGRF",
        "outputId": "4b8e3376-ff21-4ecd-8613-5bdd35e0329d"
      },
      "execution_count": null,
      "outputs": [
        {
          "output_type": "stream",
          "name": "stdout",
          "text": [
            "Original List :  [10, 10, 10, 10, 20, 20, 20, 20, 40, 40, 50, 50, 30]\n",
            "Frequency of the elements in the List :  Counter({10: 4, 20: 4, 40: 2, 50: 2, 30: 1})\n"
          ]
        }
      ]
    },
    {
      "cell_type": "markdown",
      "source": [
        "###5.To find common items from two lists."
      ],
      "metadata": {
        "id": "vINuLzBnlIjN"
      }
    },
    {
      "cell_type": "code",
      "source": [
        "list1 = [1,2,3,45,6,8,9]\n",
        "list2 = [9,8,6,3,45,7,52]\n",
        "print(set(list1) & set(list2))"
      ],
      "metadata": {
        "colab": {
          "base_uri": "https://localhost:8080/"
        },
        "id": "s40XZh4LpSw7",
        "outputId": "1e432c2a-f3ba-46d3-e5ad-5ceeef03aa56"
      },
      "execution_count": null,
      "outputs": [
        {
          "output_type": "stream",
          "name": "stdout",
          "text": [
            "{3, 6, 8, 9, 45}\n"
          ]
        }
      ]
    },
    {
      "cell_type": "markdown",
      "source": [
        "###6. To convert a list to tuple"
      ],
      "metadata": {
        "id": "-QAN75LilP1L"
      }
    },
    {
      "cell_type": "code",
      "source": [
        "list=[\"orange\", \"banana\" , \"pineapple\", \"apple\"]\n",
        "tuple = tuple(list)\n",
        "print(tuple)"
      ],
      "metadata": {
        "colab": {
          "base_uri": "https://localhost:8080/"
        },
        "id": "jy2a_A2PpYH0",
        "outputId": "94446db2-f8c0-4dde-c386-9327bf136db0"
      },
      "execution_count": null,
      "outputs": [
        {
          "output_type": "stream",
          "name": "stdout",
          "text": [
            "('orange', 'banana', 'pineapple', 'apple')\n"
          ]
        }
      ]
    },
    {
      "cell_type": "markdown",
      "source": [
        "###7.To remove an tuple(s) from a list of tuples"
      ],
      "metadata": {
        "id": "pSjW0cNApooc"
      }
    },
    {
      "cell_type": "code",
      "source": [
        "def Remove(tuples):\n",
        " tuples = [t for t in tuples if t]\n",
        " return tuples\n",
        "tuples = [(), ('john','15','8'), (), ('lion', 'volvo'), ('86', 'yellow', '45'), ('',''),()]\n",
        "print(Remove(tuples))"
      ],
      "metadata": {
        "colab": {
          "base_uri": "https://localhost:8080/"
        },
        "id": "Ea3luvhQq22G",
        "outputId": "00dc9714-74be-460d-bffc-206e74f9d948"
      },
      "execution_count": null,
      "outputs": [
        {
          "output_type": "stream",
          "name": "stdout",
          "text": [
            "[('john', '15', '8'), ('lion', 'volvo'), ('86', 'yellow', '45'), ('', '')]\n"
          ]
        }
      ]
    },
    {
      "cell_type": "markdown",
      "source": [
        "###8. To check whether the list contains a sublist"
      ],
      "metadata": {
        "id": "qTnEFM0jp2GW"
      }
    },
    {
      "cell_type": "code",
      "source": [
        "def is_Sublist(l, s):\n",
        " sub_set = False\n",
        " if s == []:\n",
        "   sub_set = True\n",
        " elif s == l:\n",
        "   sub_set = True\n",
        " elif len(s) > len(l):\n",
        "   sub_set = False\n",
        " else:\n",
        "   for i in range(len(l)):\n",
        "     if l[i] == s[0]:\n",
        "        n = 1\n",
        "        while (n < len(s)) and (l[i+n] == s[n]):\n",
        "          n += 1\n",
        "        if n == len(s):\n",
        "          sub_set = True\n",
        " return sub_set\n",
        "a = [2,4,3,5,7]\n",
        "b = [4,3]\n",
        "c = [3,7]\n",
        "print(is_Sublist(a, b))\n",
        "print(is_Sublist(a, c))"
      ],
      "metadata": {
        "colab": {
          "base_uri": "https://localhost:8080/"
        },
        "id": "mSUnYDofq-7X",
        "outputId": "c2a4766a-39a6-4bb1-e7f4-35860f7a8c61"
      },
      "execution_count": null,
      "outputs": [
        {
          "output_type": "stream",
          "name": "stdout",
          "text": [
            "True\n",
            "False\n"
          ]
        }
      ]
    },
    {
      "cell_type": "markdown",
      "source": [
        "#**PRACTICAL 3**\n",
        "##AIM: Use conditional statements and loops in Python programs"
      ],
      "metadata": {
        "id": "DdWSlyJDD9r1"
      }
    },
    {
      "cell_type": "markdown",
      "source": [
        "### 1.TAKE INTEGER INPUT FROM USER UNTIL USER PRESSES Q(ASK TO PRESS Q TO QUIT AFTER EVERY INTEGER INPUT).PRINT AVERAGE AND PRODUCT OF ALL NUMBERS."
      ],
      "metadata": {
        "id": "j0PegSIEYfqy"
      }
    },
    {
      "cell_type": "code",
      "source": [
        "print(\"start entering numbers\")\n",
        "sum=0\n",
        "count=0\n",
        "product=1\n",
        "while 1:\n",
        " num=int(input())\n",
        " sum=sum+num\n",
        " product = product*num\n",
        " count=count+1\n",
        " print(\"press q when you are done inputting the numbers or y to continue\")\n",
        " m=input()\n",
        " if m=='q':\n",
        "  break\n",
        "print(\"Average\",float(sum/count))\n",
        "print(\"product\",product)"
      ],
      "metadata": {
        "id": "bs4vTwf-Ye6x",
        "colab": {
          "base_uri": "https://localhost:8080/"
        },
        "outputId": "c94c4219-deba-4c18-f322-d8ce51cec2fc"
      },
      "execution_count": null,
      "outputs": [
        {
          "output_type": "stream",
          "name": "stdout",
          "text": [
            "start entering numbers\n",
            "6\n",
            "press q when you are done inputting the numbers or y to continue\n",
            "y\n",
            "8\n",
            "press q when you are done inputting the numbers or y to continue\n",
            "q\n",
            "Average 7.0\n",
            "product 48\n"
          ]
        }
      ]
    },
    {
      "cell_type": "markdown",
      "source": [
        "### 2. WRITE A PROGRAM THAT REMOVES ALL OCCURANCE OF A GIVEN LETTER FROM STRING"
      ],
      "metadata": {
        "id": "NFAs-O0cldFW"
      }
    },
    {
      "cell_type": "code",
      "source": [
        "string =str(input(\"Enter your string: \"))\n",
        "rem=str(input(\"Enter the letter to remove: \"))\n",
        "s=\"\"\n",
        "for i in string:\n",
        "  if i!= rem:\n",
        "   s=s+i\n",
        "print(s)"
      ],
      "metadata": {
        "colab": {
          "base_uri": "https://localhost:8080/"
        },
        "id": "uUruCKgsapky",
        "outputId": "22891551-7139-4c94-c00a-c85edc8cb69c"
      },
      "execution_count": null,
      "outputs": [
        {
          "output_type": "stream",
          "name": "stdout",
          "text": [
            "Enter your string: Dolphi K\n",
            "Enter the letter to remove: K\n",
            "Dolphi \n"
          ]
        }
      ]
    },
    {
      "cell_type": "markdown",
      "source": [
        "### 3. REVERSE FOLLOWING LIST USING FOR LOOP"
      ],
      "metadata": {
        "id": "KI23E8TYlXcU"
      }
    },
    {
      "cell_type": "code",
      "source": [
        "LIST1=[10,20,30,40,50]\n",
        "list1=[10,20,30,40,50]\n",
        "list2=[]\n",
        "x= len(list1)\n",
        "j=0\n",
        "for i in range(x):\n",
        " j=x-i-1\n",
        " s = list1[j]\n",
        " list2.append(s)\n",
        "print(list1)\n",
        "print(list2)"
      ],
      "metadata": {
        "colab": {
          "base_uri": "https://localhost:8080/"
        },
        "id": "VuO6Flxca45D",
        "outputId": "b11292b7-3421-405c-f7f4-85d2c5fbcb56"
      },
      "execution_count": null,
      "outputs": [
        {
          "output_type": "stream",
          "name": "stdout",
          "text": [
            "[10, 20, 30, 40, 50]\n",
            "[50, 40, 30, 20, 10]\n"
          ]
        }
      ]
    },
    {
      "cell_type": "markdown",
      "source": [
        "### 4. A COMPANY DECIDED TO GIVE BONOUS OF 5% TO EMPLOYEE IF HIS/HER YEAR OF SERVICE IS MORE THAN 5 YEARS.ASK USER FOR THEIR SALARY AND YEAR OF SERVICE AND PRINT THE NET BONOUS AMOUNT"
      ],
      "metadata": {
        "id": "x0eG_i-LlPwH"
      }
    },
    {
      "cell_type": "code",
      "source": [
        "s=float(input(\"Enter your salary\"))\n",
        "y=float(input(\"Enter years of service\"))\n",
        "b=0\n",
        "if y>=5:\n",
        " b=0.05*s\n",
        " s=s+b\n",
        "else:\n",
        " b=0\n",
        "print(\"Net Salary\",s)\n",
        "print(\"Bonus Amount\",b)"
      ],
      "metadata": {
        "colab": {
          "base_uri": "https://localhost:8080/"
        },
        "id": "3WDI9f7TbDcf",
        "outputId": "e029e191-33f3-4803-c223-0240de8dfc86"
      },
      "execution_count": null,
      "outputs": [
        {
          "output_type": "stream",
          "name": "stdout",
          "text": [
            "Enter your salary250000\n",
            "Enter years of service6\n",
            "Net Salary 262500.0\n",
            "Bonus Amount 12500.0\n"
          ]
        }
      ]
    },
    {
      "cell_type": "markdown",
      "source": [
        "### 5. WRITE A PROGRAM TO PRINT THE STAR PATTERN USING NESTED FOR LOOP"
      ],
      "metadata": {
        "id": "vCmNJS35kvPp"
      }
    },
    {
      "cell_type": "code",
      "source": [
        "r=\"*\"\n",
        "x=0\n",
        "j=0\n",
        "for i in range(10):\n",
        " if i<=5:\n",
        "   x=r*i\n",
        "   print(x)\n",
        " if i>5:\n",
        "   j=10-i\n",
        "   x=r*j\n",
        "   print(x)"
      ],
      "metadata": {
        "colab": {
          "base_uri": "https://localhost:8080/"
        },
        "id": "_dMLQvQbbZes",
        "outputId": "3eab96ac-4ac4-4e21-f215-f7139b33a471"
      },
      "execution_count": null,
      "outputs": [
        {
          "output_type": "stream",
          "name": "stdout",
          "text": [
            "\n",
            "*\n",
            "**\n",
            "***\n",
            "****\n",
            "*****\n",
            "****\n",
            "***\n",
            "**\n",
            "*\n"
          ]
        }
      ]
    },
    {
      "cell_type": "markdown",
      "source": [
        "### 6. WRITE A PYTHON PROGRAM TO GET FIBONACCI SERIES BETWEEN 0 TO 50"
      ],
      "metadata": {
        "id": "DSeLoppwkIfW"
      }
    },
    {
      "cell_type": "code",
      "source": [
        "num1=0\n",
        "num2=1\n",
        "num3=0\n",
        "print(num1)\n",
        "print(num2)\n",
        "while num3<50:\n",
        " num3=num1+num2\n",
        " num1=num2\n",
        " num2=num3\n",
        " if num3<50:\n",
        "  print(num3)"
      ],
      "metadata": {
        "colab": {
          "base_uri": "https://localhost:8080/"
        },
        "id": "mMuh4bhdbk5u",
        "outputId": "089a6d3b-4ff0-4133-ab01-72690f80f4fe"
      },
      "execution_count": null,
      "outputs": [
        {
          "output_type": "stream",
          "name": "stdout",
          "text": [
            "0\n",
            "1\n",
            "1\n",
            "2\n",
            "3\n",
            "5\n",
            "8\n",
            "13\n",
            "21\n",
            "34\n"
          ]
        }
      ]
    },
    {
      "cell_type": "markdown",
      "source": [
        "### 7. WRITE A PYTHON PROGRAM WHICH TAKES TWO DIGITS M(ROW) AND N (COLUMN) AS INPUT AND GENERATES A TWO-DIMNESIONAL ARRAY .THE ELEMENT VALUE IN THE I-TH ROW AND J-TH COLUMN OF THE ARRAY SHOULD BE I*J"
      ],
      "metadata": {
        "id": "5aLPCxGMjo3o"
      }
    },
    {
      "cell_type": "code",
      "source": [
        "m=int(input(\"Number of rows \"))\n",
        "n=int(input(\"Number of column\"))\n",
        "x=0\n",
        "j=0\n",
        "list1=[]\n",
        "for i in range(m):\n",
        " for j in range(n):\n",
        "  x=i*j\n",
        "  list1.append(x)\n",
        "print(list1)\n",
        "list1=[]"
      ],
      "metadata": {
        "colab": {
          "base_uri": "https://localhost:8080/"
        },
        "id": "mM66rUwGbu2C",
        "outputId": "19c79555-46f4-4aca-d528-b6826bde1b84"
      },
      "execution_count": null,
      "outputs": [
        {
          "output_type": "stream",
          "name": "stdout",
          "text": [
            "Number of rows 5\n",
            "Number of column3\n",
            "[0, 0, 0, 0, 1, 2, 0, 2, 4, 0, 3, 6, 0, 4, 8]\n"
          ]
        }
      ]
    },
    {
      "cell_type": "markdown",
      "source": [
        "### 8. WRITE A PYTHON PROGRAM THAT ACCEPTS A STRING AND CALCULATES THE NUMBER OF DIGITS AND LETTER"
      ],
      "metadata": {
        "id": "Mcn13jzVjY9x"
      }
    },
    {
      "cell_type": "code",
      "source": [
        "string=str(input(\"Enter string:\"))\n",
        "d=l=0\n",
        "for i in string:\n",
        " if i.isdigit():\n",
        "  d=d+1\n",
        " if i.isalpha():\n",
        "  l=l+1\n",
        " else:\n",
        "  pass\n",
        "print(\"number of digits is:\",d)\n",
        "print(\"number of letters is:\",l)\n"
      ],
      "metadata": {
        "colab": {
          "base_uri": "https://localhost:8080/"
        },
        "id": "tZ4irFFBfu_J",
        "outputId": "9c6ba85c-a442-4a18-df6a-8cb81eb159d4"
      },
      "execution_count": null,
      "outputs": [
        {
          "output_type": "stream",
          "name": "stdout",
          "text": [
            "Enter string:Dk007\n",
            "number of digits is: 3\n",
            "number of letters is: 2\n"
          ]
        }
      ]
    },
    {
      "cell_type": "markdown",
      "source": [
        "#**PRACTICAL 4**\n",
        "##AIM:Import module and use it in Python programs"
      ],
      "metadata": {
        "id": "KUtBb-qjhOLd"
      }
    },
    {
      "cell_type": "markdown",
      "source": [
        "### 1.PLOT LINEAR, SCATTER AND BAR CHAT OF THE SAME DATA USING SUBPLO"
      ],
      "metadata": {
        "id": "rmrQSWljhqP0"
      }
    },
    {
      "cell_type": "code",
      "source": [
        "import matplotlib.pyplot as plt\n",
        "from mpl_toolkits.mplot3d import Axes3D\n",
        "import numpy as np\n",
        "x=[3,1,4,2,7,8,6]\n",
        "y=[9,7,5,3,1,2,4]\n",
        "fig = plt.figure()\n",
        "plt1 = fig.add_subplot(221)\n",
        "plt2 = fig.add_subplot(222)\n",
        "plt3 = fig.add_subplot(223)\n",
        "plt1.plot(x, y, color ='r')\n",
        "plt1.set_title('Linear plot')\n",
        "plt2.scatter(x, y, color ='b')\n",
        "plt2.set_title('Scatter')\n",
        "plt.bar(x, y,width = 0.8, color = ['red'])\n",
        "plt3.set_title('Bar Graph')\n",
        "fig.subplots_adjust(hspace=.5,wspace=0.5)\n",
        "plt.show()\n"
      ],
      "metadata": {
        "colab": {
          "base_uri": "https://localhost:8080/",
          "height": 281
        },
        "id": "O_6DCVy9hk-m",
        "outputId": "0d81134a-4916-43cc-d104-a06c94d2677c"
      },
      "execution_count": null,
      "outputs": [
        {
          "output_type": "display_data",
          "data": {
            "text/plain": [
              "<Figure size 432x288 with 3 Axes>"
            ],
            "image/png": "[encoded data removed]"
          },
          "metadata": {
            "needs_background": "light"
          }
        }
      ]
    },
    {
      "cell_type": "markdown",
      "source": [
        "### 2. DRAW SCATTER PLOT OF EXPONENTIAL INCREASING ,EXPONENTIAL DECREASE AND LINEAR WITH LEGEND AND DIFFERENT MARKER AND COLOUR AND CHANGE THE LOCATION"
      ],
      "metadata": {
        "id": "mwCXz40uhxTp"
      }
    },
    {
      "cell_type": "code",
      "source": [
        "import numpy as np\n",
        "import matplotlib.pyplot as plt\n",
        "x = np.linspace(-1, 2, 100)\n",
        "plt.figure()\n",
        "plt.scatter(x, np.exp(x),label=\"EXP INC\")\n",
        "plt.scatter(x, np.exp(-x),label=\"EXP DEC\")\n",
        "plt.scatter(x,x,label=\"LINEAR\")\n",
        "plt.xlabel('$x$')\n",
        "plt.ylabel('$y$')\n",
        "plt.legend(loc=0)\n",
        "plt.show()"
      ],
      "metadata": {
        "colab": {
          "base_uri": "https://localhost:8080/",
          "height": 279
        },
        "id": "rmQvhFeJh7NA",
        "outputId": "56f0b13d-7e36-4c8c-d7b8-619faec2a1f8"
      },
      "execution_count": null,
      "outputs": [
        {
          "output_type": "display_data",
          "data": {
            "text/plain": [
              "<Figure size 432x288 with 1 Axes>"
            ],
            "image/png": "[encoded data removed]"
          },
          "metadata": {
            "needs_background": "light"
          }
        }
      ]
    },
    {
      "cell_type": "markdown",
      "source": [
        "### 3. DRAW SINE WAVE USING DASHED LINE,RANGE OF Y AXIS SHOULD BE LIMITED IN RANGE(-1,1) AND DRAW A LINE OF Y=5,TEXT ANNOTATE VALUE AT X=1"
      ],
      "metadata": {
        "id": "9_oCkl7KjFZy"
      }
    },
    {
      "cell_type": "code",
      "source": [
        "import matplotlib.pyplot as plt\n",
        "import numpy as np\n",
        "x1= np.arange(0, 2*(np.pi), 0.1)\n",
        "y1= np.sin(x1)\n",
        "plt.plot(x1, y1,color='green', linestyle='dashed')\n",
        "x_coordinates = [0, 6.2]\n",
        "y_coordinates = [0.5, 0.5]\n",
        "plt.plot(x_coordinates, y_coordinates)\n",
        "plt.show()"
      ],
      "metadata": {
        "colab": {
          "base_uri": "https://localhost:8080/",
          "height": 265
        },
        "id": "MKb03-9fiBz6",
        "outputId": "7050bf0b-a66d-4be6-cd08-f620886e2665"
      },
      "execution_count": null,
      "outputs": [
        {
          "output_type": "display_data",
          "data": {
            "text/plain": [
              "<Figure size 432x288 with 1 Axes>"
            ],
            "image/png": "[encoded data removed]"
          },
          "metadata": {
            "needs_background": "light"
          }
        }
      ]
    },
    {
      "cell_type": "markdown",
      "source": [
        "### 4. DRAW HISTOGRAM WITH RANDOM NUMBER AND 2 HISTOGRAM IN THE SAME PLOT"
      ],
      "metadata": {
        "id": "pNllEOsmiHDm"
      }
    },
    {
      "cell_type": "code",
      "source": [
        "import matplotlib.pyplot as plt\n",
        "fig = plt.figure()\n",
        "plt1 = fig.add_subplot(221)\n",
        "plt2 = fig.add_subplot(222)\n",
        "# Age of people from group 1\n",
        "age1 = [2,5,70,40,30,45,50,45,43,40,44,\n",
        "60,7,13,57,18,90,77,32,21,20,40]\n",
        "# setting the ranges and no. of intervals\n",
        "range = (0, 100)\n",
        "bins = 10\n",
        "# plotting a histogram\n",
        "plt1.hist(age1, bins, range, color = 'black',\n",
        "histtype = 'bar', rwidth = 0.9,alpha=0.8)\n",
        "# Age of people from group 2\n",
        "age2 = [2,34,43,56,44,69,96,33,12,31,41,\n",
        "22,11,55,66,77,88,99,19,29,39,7]\n",
        "# setting the ranges and no. of intervals\n",
        "range = (0, 100)\n",
        "bins = 10\n",
        "plt2.hist(age2, bins, range, color = 'blue',\n",
        "histtype = 'bar', rwidth = 0.9,alpha=0.5)\n",
        "# x-axis label\n",
        "plt.xlabel('age')\n",
        "# frequency label\n",
        "plt.ylabel('No. of people')\n",
        "# function to show the plot\n",
        "plt.show()"
      ],
      "metadata": {
        "colab": {
          "base_uri": "https://localhost:8080/",
          "height": 161
        },
        "id": "KHDcNUvNiM_d",
        "outputId": "3653144b-9191-4c3d-b960-4407307a78a9"
      },
      "execution_count": null,
      "outputs": [
        {
          "output_type": "display_data",
          "data": {
            "text/plain": [
              "<Figure size 432x288 with 2 Axes>"
            ],
            "image/png": "[encoded data removed]"
          },
          "metadata": {
            "needs_background": "light"
          }
        }
      ]
    },
    {
      "cell_type": "markdown",
      "source": [
        "### 5. DRAW 3-D CANVAS WITH TWISTING CURVE\n",
        "\n",
        "---\n",
        "\n"
      ],
      "metadata": {
        "id": "c-osSEAdiv0I"
      }
    },
    {
      "cell_type": "code",
      "source": [
        "from mpl_toolkits.mplot3d import axes3d\n",
        "import matplotlib.pyplot as plt\n",
        "from matplotlib import style\n",
        "import numpy as np\n",
        "fig = plt.figure()\n",
        "ax = plt.axes(projection='3d')\n",
        "ax = plt.axes(projection='3d')\n",
        "# Data for a three-dimensional line\n",
        "zline = np.linspace(0, 15, 1000)\n",
        "xline = np.sin(zline)\n",
        "yline = np.cos(zline)\n",
        "ax.plot3D(xline, yline, zline, 'blue')\n",
        "# Data for 3-d scattered points\n",
        "zdata = 15 * np.random.random(100)\n",
        "xdata = np.sin(zdata) + 0.1 * np.random.randn(100)\n",
        "ydata = np.cos(zdata) + 0.1 * np.random.randn(100)\n",
        "ax.scatter3D(xdata, ydata, zdata, c=zdata, cmap='Greens')"
      ],
      "metadata": {
        "colab": {
          "base_uri": "https://localhost:8080/",
          "height": 265
        },
        "id": "lud5GjAEi11y",
        "outputId": "057f4e09-f1b5-4816-d619-f9d2c2e4aa22"
      },
      "execution_count": null,
      "outputs": [
        {
          "output_type": "execute_result",
          "data": {
            "text/plain": [
              "<mpl_toolkits.mplot3d.art3d.Path3DCollection at 0x7f7dacb68e90>"
            ]
          },
          "metadata": {},
          "execution_count": 17
        },
        {
          "output_type": "display_data",
          "data": {
            "text/plain": [
              "<Figure size 432x288 with 1 Axes>"
            ],
            "image/png": "[encoded data removed]"
          },
          "metadata": {
            "needs_background": "light"
          }
        }
      ]
    },
    {
      "cell_type": "markdown",
      "source": [
        "#**PRACTICAL 5**\n",
        "##AIM:Write python programs to create functions and use functions in the program"
      ],
      "metadata": {
        "id": "ktlRLeI9ElSR"
      }
    },
    {
      "cell_type": "markdown",
      "source": [
        "###1.Write a function that returns absolute value."
      ],
      "metadata": {
        "id": "1oVb2sZeEwXW"
      }
    },
    {
      "cell_type": "code",
      "source": [
        "x= float(input(\"Enter a value\"))\n",
        "if x<0:\n",
        "    x= x*-1\n",
        "print(x)\n"
      ],
      "metadata": {
        "colab": {
          "base_uri": "https://localhost:8080/"
        },
        "id": "YkDcGY-AEvcf",
        "outputId": "e0cbe893-d3c0-4fbe-eb48-6df6d0abd7c5"
      },
      "execution_count": null,
      "outputs": [
        {
          "output_type": "stream",
          "name": "stdout",
          "text": [
            "Enter a value-3\n",
            "3.0\n"
          ]
        }
      ]
    },
    {
      "cell_type": "markdown",
      "source": [
        "###2.Write a function to append [11,22,33] to the existing list "
      ],
      "metadata": {
        "id": "7KYzPgE9E_Oc"
      }
    },
    {
      "cell_type": "code",
      "source": [
        "def lists_append(list):\n",
        "    list.append(11)\n",
        "    list.append(12)\n",
        "    list.append(13)\n",
        "    print(list)\n",
        "\n",
        "Sequence=[8,9,10]\n",
        "lists_append(Sequence)\n",
        "\n"
      ],
      "metadata": {
        "colab": {
          "base_uri": "https://localhost:8080/"
        },
        "id": "___pM3c1FCfB",
        "outputId": "49b031a6-a007-4ea0-a67a-78c064fe9768"
      },
      "execution_count": null,
      "outputs": [
        {
          "output_type": "stream",
          "name": "stdout",
          "text": [
            "[8, 9, 10, 11, 12, 13]\n"
          ]
        }
      ]
    },
    {
      "cell_type": "markdown",
      "source": [
        "###3.Write a function to print default argument  when it is not passed to function\n"
      ],
      "metadata": {
        "id": "ixcB82DJFPLW"
      }
    },
    {
      "cell_type": "code",
      "source": [
        "def my_function():\n",
        "    print(\"This is a function without arguments\")\n",
        "my_function()\n"
      ],
      "metadata": {
        "colab": {
          "base_uri": "https://localhost:8080/"
        },
        "id": "K-nuw9veFSIQ",
        "outputId": "b47c086d-b4cc-48fb-82db-4c1bd4943779"
      },
      "execution_count": null,
      "outputs": [
        {
          "output_type": "stream",
          "name": "stdout",
          "text": [
            "This is a function without arguments\n"
          ]
        }
      ]
    },
    {
      "cell_type": "markdown",
      "source": [
        "###4.Write a function to return the sum of two number.Defined sum as global and local variable and see the difference"
      ],
      "metadata": {
        "id": "Q9zJdig1FWRA"
      }
    },
    {
      "cell_type": "code",
      "source": [],
      "metadata": {
        "id": "95F0UdpOFaTE"
      },
      "execution_count": null,
      "outputs": []
    }
  ]
}